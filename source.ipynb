{
 "cells": [
  {
   "attachments": {},
   "cell_type": "markdown",
   "metadata": {},
   "source": [
    "# Federal Spending and the Impact on Unemployment in Veterans\n",
    "\n",
    "![Banner](./assets/banner.jpeg)"
   ]
  },
  {
   "attachments": {},
   "cell_type": "markdown",
   "metadata": {},
   "source": [
    "## Topic\n",
    "*What problem are you (or your stakeholder) trying to address?*\n",
    "The problem I aim to address is the unemployment among veterans and how it relates to federal spending on veterans programs. This topic is crucial as large numbers of veterans struggle to find gainful eomployment after military seperation, which can lead to other issues involving impacts to mental, physical and emotional health. High unemployment rates among veterans lead financial hardship, mental health issues, and a loss of valuable skills in the workforce. Analyzing the effectiveness of current government programs in reducing veteran unemployment is essential to optimize resource allocation, improving support services, and effectively using taxpayer dollars."
   ]
  },
  {
   "attachments": {},
   "cell_type": "markdown",
   "metadata": {},
   "source": [
    "## Project Question\n",
    "*What specific question are you seeking to answer with this project?*\n",
    "*This is not the same as the questions you ask to limit the scope of the project.*\n",
    "1. What are the trends in veteran unemployment rates from 2014 up til now (excluding COVID years)?\n",
    "2. How has the Department of Veterans Affairs' spending changed over the same period, particularly in programs aimed at employment support?\n",
    "3. Is there a correlation between VA spending on employment programs and the unemployment rates among veterans?\n",
    "5. Are any changes in veterans employment rates explauined by nationwide changes?"
   ]
  },
  {
   "attachments": {},
   "cell_type": "markdown",
   "metadata": {},
   "source": [
    "## What would an answer look like?\n",
    "*What is your hypothesized answer to your question?*\n",
    "I want to examine the impacts of US spending on veterans employment programs and how it relates to veteran unemployment rates. By using government spending as the independent variable and veteran unemployment rates as the dependent variable, the regression analysis will help determine if increased spending correlates with a reduction in unemployment among veterans or if there is no significant relationship between the two variables. \n",
    "\n",
    "Once I have identified any possible trends in the data between the two, I will examine that against the unemployment percent of change for the entire US, to see if any trends identified by the spending analysis can be explained by a nationwide shift not related to veterans program spending.Using a correlation coefficient I can see if veterans unemployment decreased by 2% annually while national unemployment dropped by 1.5% during the same period.\n",
    "\n",
    "Another visual would show veterans unemployment rates before and after significant increases in government spending on veterans employment programs. The chart could show veterans unemployment rates for two periods: before the spending increase and after the increase.\n",
    "\n",
    "At the conclusion of this analysis I intend to show that there is a distinct relationship between government spending and veterans unemployment rates. I feel that the results will show that increses in spending result in decreases in eunemployment rates. "
   ]
  },
  {
   "attachments": {},
   "cell_type": "markdown",
   "metadata": {},
   "source": [
    "## Data Sources\n",
    "*What 3 data sources have you identified for this project?*\n",
    "*How are you going to relate these datasets?*\n",
    "📝 <!-- Answer Below -->"
   ]
  },
  {
   "attachments": {},
   "cell_type": "markdown",
   "metadata": {},
   "source": [
    "## Approach and Analysis\n",
    "*What is your approach to answering your project question?*\n",
    "*How will you use the identified data to answer your project question?*\n",
    "📝 <!-- Start Discussing the project here; you can add as many code cells as you need -->"
   ]
  },
  {
   "cell_type": "code",
   "execution_count": 17,
   "metadata": {},
   "outputs": [
    {
     "name": "stdout",
     "output_type": "stream",
     "text": [
      "download complete.\n",
      "   year period value\n",
      "0  2024    M09   235\n",
      "1  2024    M08   288\n",
      "2  2024    M07   251\n",
      "3  2024    M06   237\n",
      "4  2024    M05   243\n"
     ]
    }
   ],
   "source": [
    "# Import the BLS stats for veteran unemployment\n",
    "import os\n",
    "import pandas as pd\n",
    "import requests\n",
    "from dotenv import load_dotenv\n",
    "\n",
    "load_dotenv()\n",
    "\n",
    "api_key = os.getenv(\"BLS_API_KEY\")\n",
    "\n",
    "if not api_key:\n",
    "    raise ValueError(\"For Me: The key is in your inbox, set the env variable again\")\n",
    "\n",
    "url = 'https://api.bls.gov/publicAPI/v2/timeseries/data/'\n",
    "headers = {'Content-Type': 'application/json'}\n",
    "\n",
    "payload = {\n",
    "    \"seriesid\": [\"LNS13049526\"],\n",
    "    \"startyear\": \"2014\",\n",
    "    \"endyear\": \"2024\",\n",
    "    \"registrationkey\": api_key\n",
    "}\n",
    "\n",
    "res = requests.post(url, json=payload, headers=headers)\n",
    "\n",
    "if res.status_code == 200:\n",
    "    data = res.json()\n",
    "    records = []\n",
    "    for series in data['Results']['series']:\n",
    "        for item in series['data']:\n",
    "            records.append({\n",
    "                'year': item['year'],\n",
    "                'period': item['period'],\n",
    "                'value': item['value']\n",
    "            })\n",
    "    df = pd.DataFrame(records)\n",
    "    df.to_csv('data/veteran_unemployment_bls.csv', index=False)\n",
    "    print(\"download complete.\")\n",
    "    print(df.head())\n",
    "else:\n",
    "    print(f\"Failed to retrieve data: {res.status_code}\")\n"
   ]
  },
  {
   "cell_type": "code",
   "execution_count": 14,
   "metadata": {},
   "outputs": [
    {
     "name": "stdout",
     "output_type": "stream",
     "text": [
      "         DATE  UNRATE_PCH\n",
      "0  2014-01-01   -16.30804\n",
      "1  2015-01-01   -14.34371\n",
      "2  2016-01-01    -7.58294\n",
      "3  2017-01-01   -10.59829\n",
      "4  2018-01-01   -10.70746\n"
     ]
    }
   ],
   "source": [
    "# load the Federal spending for Veterans programs from 2014-2014 from csv\n",
    "import pandas as pd\n",
    "\n",
    "df2 = pd.read_csv('data/us_unemployment_rate_change_2014_2024.csv')\n",
    "print(df2.head())"
   ]
  },
  {
   "cell_type": "code",
   "execution_count": 15,
   "metadata": {},
   "outputs": [
    {
     "name": "stdout",
     "output_type": "stream",
     "text": [
      "   fiscal_year  total_obligations\n",
      "0         2023       2.324897e+08\n",
      "1         2022       2.255760e+08\n",
      "2         2024       2.254406e+08\n",
      "3         2018       2.180441e+08\n",
      "4         2020       2.170042e+08\n"
     ]
    }
   ],
   "source": [
    "# load total US unemployment rate of change from csv\n",
    "df3 = pd.read_csv('data/veterans_program_spending_by_year.csv')\n",
    "print(df3.head())"
   ]
  },
  {
   "cell_type": "markdown",
   "metadata": {},
   "source": [
    "I will merge the relevant information from the datasets using the year as a key. It is common to all the datasets and fits the goal of my analysis. The veterans unemployment rate data is broken down by month within the year, but I can create a calculated column for the annual stats when I clean the data to remove the COVID years. "
   ]
  },
  {
   "attachments": {},
   "cell_type": "markdown",
   "metadata": {},
   "source": [
    "## Resources and References\n",
    "*What resources and references have you used for this project?*\n",
    "📝 <!-- Answer Below -->"
   ]
  },
  {
   "cell_type": "code",
   "execution_count": null,
   "metadata": {},
   "outputs": [],
   "source": [
    "# ⚠️ Make sure you run this cell at the end of your notebook before every submission!\n",
    "!jupyter nbconvert --to python source.ipynb"
   ]
  }
 ],
 "metadata": {
  "kernelspec": {
   "display_name": "Final-Project-Template-unx06iZ2",
   "language": "python",
   "name": "python3"
  },
  "language_info": {
   "codemirror_mode": {
    "name": "ipython",
    "version": 3
   },
   "file_extension": ".py",
   "mimetype": "text/x-python",
   "name": "python",
   "nbconvert_exporter": "python",
   "pygments_lexer": "ipython3",
   "version": "3.11.9"
  },
  "orig_nbformat": 4,
  "vscode": {
   "interpreter": {
    "hash": "8f59090b806211711d8ea6da25ee5b1ccb272a75a21b9536283520350d8dfda7"
   }
  }
 },
 "nbformat": 4,
 "nbformat_minor": 2
}
