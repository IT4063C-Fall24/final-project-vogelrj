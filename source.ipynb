{
 "cells": [
  {
   "attachments": {},
   "cell_type": "markdown",
   "metadata": {},
   "source": [
    "# Federal Spending and the Impact on Unemployment in Veterans\n",
    "\n",
    "![Banner](./assets/banner.jpeg)"
   ]
  },
  {
   "attachments": {},
   "cell_type": "markdown",
   "metadata": {},
   "source": [
    "## Topic\n",
    "*What problem are you (or your stakeholder) trying to address?*\n",
    "The problem I aim to address is the unemployment among veterans and how it relates to federal spending on veterans programs. This topic is crucial as large numbers of veterans struggle to find gainful eomployment after military seperation, which can lead to other issues involving impacts to mental, physical and emotional health. High unemployment rates among veterans lead financial hardship, mental health issues, and a loss of valuable skills in the workforce. Analyzing the effectiveness of current government programs in reducing veteran unemployment is essential to optimize resource allocation, improving support services, and effectively using taxpayer dollars."
   ]
  },
  {
   "attachments": {},
   "cell_type": "markdown",
   "metadata": {},
   "source": [
    "## Project Question\n",
    "*What specific question are you seeking to answer with this project?*\n",
    "*This is not the same as the questions you ask to limit the scope of the project.*\n",
    "1. What are the trends in veteran unemployment rates from 2014 up til now (excluding COVID years)?\n",
    "2. How has the Department of Veterans Affairs' spending changed over the same period, particularly in programs aimed at employment support?\n",
    "3. Is there a correlation between VA spending on employment programs and the unemployment rates among veterans?\n",
    "5. Are any changes in veterans employment rates explained by nationwide changes?"
   ]
  },
  {
   "attachments": {},
   "cell_type": "markdown",
   "metadata": {},
   "source": [
    "## What would an answer look like?\n",
    "*What is your hypothesized answer to your question?*\n",
    "I want to examine the impacts of US spending on veterans employment programs and how it relates to veteran unemployment rates. By using government spending as the independent variable and veteran unemployment rates as the dependent variable, the regression analysis will help determine if increased spending correlates with a reduction in unemployment among veterans or if there is no significant relationship between the two variables. \n",
    "\n",
    "Once I have identified any possible trends in the data between the two, I will examine that against the unemployment percent of change for the entire US, to see if any trends identified by the spending analysis can be explained by a nationwide shift not related to veterans program spending.Using a correlation coefficient I can see if veterans unemployment decreased by 2% annually while national unemployment dropped by 1.5% during the same period.\n",
    "\n",
    "Another visual would show veterans unemployment rates before and after significant increases in government spending on veterans employment programs. The chart could show veterans unemployment rates for two periods: before the spending increase and after the increase.\n",
    "\n",
    "At the conclusion of this analysis I intend to show that there is a distinct relationship between government spending and veterans unemployment rates. I feel that the results will show that increses in spending result in decreases in eunemployment rates. "
   ]
  },
  {
   "cell_type": "code",
   "execution_count": 49,
   "metadata": {},
   "outputs": [],
   "source": [
    "#imports\n",
    "import pandas as pd\n",
    "import seaborn as sns\n",
    "import matplotlib.pyplot as plt\n",
    "import plotly.express as px\n",
    "from sklearn.model_selection import train_test_split\n",
    "from sklearn.linear_model import LinearRegression\n",
    "from sklearn.metrics import mean_squared_error, r2_score\n"
   ]
  },
  {
   "attachments": {},
   "cell_type": "markdown",
   "metadata": {},
   "source": [
    "## Data Sources\n",
    "*What 3 data sources have you identified for this project?*\n",
    "*How are you going to relate these datasets?*\n",
    "📝 <!-- Answer Below -->"
   ]
  },
  {
   "cell_type": "code",
   "execution_count": 50,
   "metadata": {},
   "outputs": [
    {
     "name": "stdout",
     "output_type": "stream",
     "text": [
      "download complete.\n",
      "   year period value\n",
      "0  2024    M11   234\n",
      "1  2024    M10   252\n",
      "2  2024    M09   235\n",
      "3  2024    M08   288\n",
      "4  2024    M07   251\n"
     ]
    }
   ],
   "source": [
    "# Import the BLS stats for veteran unemployment numbers\n",
    "import os\n",
    "import pandas as pd\n",
    "import requests\n",
    "from dotenv import load_dotenv\n",
    "\n",
    "load_dotenv()\n",
    "\n",
    "api_key = os.getenv(\"BLS_API_KEY\")\n",
    "\n",
    "if not api_key:\n",
    "    raise ValueError(\"For Me: The key is in your inbox, set the env variable again\")\n",
    "\n",
    "url = 'https://api.bls.gov/publicAPI/v2/timeseries/data/'\n",
    "headers = {'Content-Type': 'application/json'}\n",
    "\n",
    "payload = {\n",
    "    \"seriesid\": [\"LNS13049526\"],\n",
    "    \"startyear\": \"2014\",\n",
    "    \"endyear\": \"2024\",\n",
    "    \"registrationkey\": api_key\n",
    "}\n",
    "\n",
    "res = requests.post(url, json=payload, headers=headers)\n",
    "\n",
    "if res.status_code == 200:\n",
    "    data = res.json()\n",
    "    records = []\n",
    "    for series in data['Results']['series']:\n",
    "        for item in series['data']:\n",
    "            records.append({\n",
    "                'year': item['year'],\n",
    "                'period': item['period'],\n",
    "                'value': item['value']\n",
    "            })\n",
    "    vet_employment_stats_df = pd.DataFrame(records)\n",
    "    vet_employment_stats_df.to_csv('data/veteran_unemployment_bls.csv', index=False)\n",
    "    print(\"download complete.\")\n",
    "    print(vet_employment_stats_df.head())\n",
    "else:\n",
    "    print(f\"Failed to retrieve data: {res.status_code}\")\n"
   ]
  },
  {
   "cell_type": "code",
   "execution_count": 51,
   "metadata": {},
   "outputs": [
    {
     "name": "stdout",
     "output_type": "stream",
     "text": [
      "download complete.\n",
      "   year period value\n",
      "0  2024    M11   2.8\n",
      "1  2024    M10   3.0\n",
      "2  2024    M09   2.8\n",
      "3  2024    M08   3.4\n",
      "4  2024    M07   3.0\n"
     ]
    }
   ],
   "source": [
    "# Import the BLS stats for veteran unemployment rates\n",
    "\n",
    "\n",
    "if not api_key:\n",
    "    raise ValueError(\"For Me: The key is in your inbox, set the env variable again\")\n",
    "\n",
    "url = 'https://api.bls.gov/publicAPI/v2/timeseries/data/'\n",
    "headers = {'Content-Type': 'application/json'}\n",
    "\n",
    "payload = {\n",
    "    \"seriesid\": [\"LNS14049526\"],\n",
    "    \"startyear\": \"2014\",\n",
    "    \"endyear\": \"2024\",\n",
    "    \"registrationkey\": api_key\n",
    "}\n",
    "\n",
    "res = requests.post(url, json=payload, headers=headers)\n",
    "\n",
    "if res.status_code == 200:\n",
    "    data = res.json()\n",
    "    records = []\n",
    "    for series in data['Results']['series']:\n",
    "        for item in series['data']:\n",
    "            records.append({\n",
    "                'year': item['year'],\n",
    "                'period': item['period'],\n",
    "                'value': item['value']\n",
    "            })\n",
    "    vet_unemployment_rates_df = pd.DataFrame(records)\n",
    "    vet_unemployment_rates_df.to_csv('data/veteran_unemployment_rates_bls.csv', index=False)\n",
    "    print(\"download complete.\")\n",
    "    print(vet_unemployment_rates_df.head())\n",
    "else:\n",
    "    print(f\"Failed to retrieve data: {res.status_code}\")\n"
   ]
  },
  {
   "cell_type": "code",
   "execution_count": 52,
   "metadata": {},
   "outputs": [
    {
     "data": {
      "text/html": [
       "<div>\n",
       "<style scoped>\n",
       "    .dataframe tbody tr th:only-of-type {\n",
       "        vertical-align: middle;\n",
       "    }\n",
       "\n",
       "    .dataframe tbody tr th {\n",
       "        vertical-align: top;\n",
       "    }\n",
       "\n",
       "    .dataframe thead th {\n",
       "        text-align: right;\n",
       "    }\n",
       "</style>\n",
       "<table border=\"1\" class=\"dataframe\">\n",
       "  <thead>\n",
       "    <tr style=\"text-align: right;\">\n",
       "      <th></th>\n",
       "      <th>DATE</th>\n",
       "      <th>UNRATE</th>\n",
       "    </tr>\n",
       "  </thead>\n",
       "  <tbody>\n",
       "    <tr>\n",
       "      <th>0</th>\n",
       "      <td>1/1/2014</td>\n",
       "      <td>6.6</td>\n",
       "    </tr>\n",
       "    <tr>\n",
       "      <th>1</th>\n",
       "      <td>2/1/2014</td>\n",
       "      <td>6.7</td>\n",
       "    </tr>\n",
       "    <tr>\n",
       "      <th>2</th>\n",
       "      <td>3/1/2014</td>\n",
       "      <td>6.7</td>\n",
       "    </tr>\n",
       "    <tr>\n",
       "      <th>3</th>\n",
       "      <td>4/1/2014</td>\n",
       "      <td>6.2</td>\n",
       "    </tr>\n",
       "    <tr>\n",
       "      <th>4</th>\n",
       "      <td>5/1/2014</td>\n",
       "      <td>6.3</td>\n",
       "    </tr>\n",
       "  </tbody>\n",
       "</table>\n",
       "</div>"
      ],
      "text/plain": [
       "       DATE  UNRATE\n",
       "0  1/1/2014     6.6\n",
       "1  2/1/2014     6.7\n",
       "2  3/1/2014     6.7\n",
       "3  4/1/2014     6.2\n",
       "4  5/1/2014     6.3"
      ]
     },
     "execution_count": 52,
     "metadata": {},
     "output_type": "execute_result"
    }
   ],
   "source": [
    "# load the unemployment rate from 2014-2024 from csv\n",
    "import pandas as pd\n",
    "\n",
    "unemployment_rate_df = pd.read_csv('data/us_unemployment_rate_2014_2024.csv')\n",
    "unemployment_rate_df.head()"
   ]
  },
  {
   "cell_type": "code",
   "execution_count": null,
   "metadata": {},
   "outputs": [
    {
     "name": "stdout",
     "output_type": "stream",
     "text": [
      "   fiscal_year  total_obligations\n",
      "0         2023       2.324897e+08\n",
      "1         2022       2.255760e+08\n",
      "2         2024       2.254406e+08\n",
      "3         2018       2.180441e+08\n",
      "4         2020       2.170042e+08\n"
     ]
    }
   ],
   "source": [
    "# load total US spending on veterans programs\n",
    "vet_program_spending_df = pd.read_csv('data/veterans_program_spending_by_year.csv')\n",
    "print(vet_program_spending_df.head())"
   ]
  },
  {
   "cell_type": "markdown",
   "metadata": {},
   "source": [
    "## Approach and Analysis\n",
    "*What is your approach to answering your project question?*\n",
    "*How will you use the identified data to answer your project question?*\n",
    "📝 <!-- Start Discussing the project here; you can add as many code cells as you need -->"
   ]
  },
  {
   "cell_type": "markdown",
   "metadata": {},
   "source": [
    "I will merge the relevant information from the datasets using the year as a key. It is common to all the datasets and fits the goal of my analysis. The veterans unemployment rate data is broken down by month within the year, but I can create a calculated column for the annual stats when I clean the data to identify the COVID years for handlingin the analysis. I have decided to keep the values for the COVID years and not treat them as outliers. These values represent the true economic conditions of their time and have value within the goal of this analysis. To omit them would also remove remove valuable insight as to the rate of veteran unemployment, as the total unemployment shot up. "
   ]
  },
  {
   "cell_type": "markdown",
   "metadata": {},
   "source": [
    "## Data Cleaning and Transformation\n",
    "Handling issues such as:\n",
    "\n",
    "    Missing values\n",
    "    Duplicate values\n",
    "    Anomalies and Outliers\n",
    "    Data types transformation.\n"
   ]
  },
  {
   "cell_type": "code",
   "execution_count": 54,
   "metadata": {},
   "outputs": [
    {
     "name": "stdout",
     "output_type": "stream",
     "text": [
      "\n",
      "--- vet_employment_stats_df ---\n",
      "\n",
      "        year period value\n",
      "count    131    131   131\n",
      "unique    11     12   121\n",
      "top     2023    M11   266\n",
      "freq      12     11     2\n",
      "\n",
      "--- unemployment_rate_df ---\n",
      "\n",
      "            DATE      UNRATE\n",
      "count        121  121.000000\n",
      "unique       121         NaN\n",
      "top     1/1/2014         NaN\n",
      "freq           1         NaN\n",
      "mean         NaN    4.883471\n",
      "std          NaN    1.769432\n",
      "min          NaN    3.400000\n",
      "25%          NaN    3.700000\n",
      "50%          NaN    4.400000\n",
      "75%          NaN    5.400000\n",
      "max          NaN   14.800000\n",
      "\n",
      "--- vet_program_spending_df ---\n",
      "\n",
      "       fiscal_year  total_obligations\n",
      "count    12.000000       1.200000e+01\n",
      "mean   2019.500000       1.976460e+08\n",
      "std       3.605551       6.293856e+07\n",
      "min    2014.000000       0.000000e+00\n",
      "25%    2016.750000       2.054107e+08\n",
      "50%    2019.500000       2.163466e+08\n",
      "75%    2022.250000       2.198932e+08\n",
      "max    2025.000000       2.324897e+08\n",
      "\n",
      "--- vet_unemployment_rates_df ---\n",
      "\n",
      "        year period value\n",
      "count    131    131   131\n",
      "unique    11     12    44\n",
      "top     2023    M11   3.1\n",
      "freq      12     11     7\n"
     ]
    }
   ],
   "source": [
    "#Putting the dataframs in a list to make it easier to iterate and runs checks on all\n",
    "dfs = [vet_employment_stats_df, unemployment_rate_df, vet_program_spending_df, vet_unemployment_rates_df]\n",
    "df_names = [\"vet_employment_stats_df\", \"unemployment_rate_df\", \"vet_program_spending_df\", \"vet_unemployment_rates_df\"]\n",
    "\n",
    "#Running a describe() on each df\n",
    "descriptions = {name: df.describe(include='all') for df, name in zip(dfs, df_names)}\n",
    "for name, description in descriptions.items():\n",
    "    print(f\"\\n--- {name} ---\\n\")\n",
    "    print(description)\n",
    "\n"
   ]
  },
  {
   "cell_type": "code",
   "execution_count": 55,
   "metadata": {},
   "outputs": [
    {
     "name": "stdout",
     "output_type": "stream",
     "text": [
      "\n",
      "--- vet_employment_stats_df ---\n",
      "\n",
      "<class 'pandas.core.frame.DataFrame'>\n",
      "RangeIndex: 131 entries, 0 to 130\n",
      "Data columns (total 3 columns):\n",
      " #   Column  Non-Null Count  Dtype \n",
      "---  ------  --------------  ----- \n",
      " 0   year    131 non-null    object\n",
      " 1   period  131 non-null    object\n",
      " 2   value   131 non-null    object\n",
      "dtypes: object(3)\n",
      "memory usage: 3.2+ KB\n",
      "\n",
      "--- unemployment_rate_df ---\n",
      "\n",
      "<class 'pandas.core.frame.DataFrame'>\n",
      "RangeIndex: 121 entries, 0 to 120\n",
      "Data columns (total 2 columns):\n",
      " #   Column  Non-Null Count  Dtype  \n",
      "---  ------  --------------  -----  \n",
      " 0   DATE    121 non-null    object \n",
      " 1   UNRATE  121 non-null    float64\n",
      "dtypes: float64(1), object(1)\n",
      "memory usage: 2.0+ KB\n",
      "\n",
      "--- vet_program_spending_df ---\n",
      "\n",
      "<class 'pandas.core.frame.DataFrame'>\n",
      "RangeIndex: 12 entries, 0 to 11\n",
      "Data columns (total 2 columns):\n",
      " #   Column             Non-Null Count  Dtype  \n",
      "---  ------             --------------  -----  \n",
      " 0   fiscal_year        12 non-null     int64  \n",
      " 1   total_obligations  12 non-null     float64\n",
      "dtypes: float64(1), int64(1)\n",
      "memory usage: 324.0 bytes\n",
      "\n",
      "--- vet_unemployment_rates_df ---\n",
      "\n",
      "<class 'pandas.core.frame.DataFrame'>\n",
      "RangeIndex: 131 entries, 0 to 130\n",
      "Data columns (total 3 columns):\n",
      " #   Column  Non-Null Count  Dtype \n",
      "---  ------  --------------  ----- \n",
      " 0   year    131 non-null    object\n",
      " 1   period  131 non-null    object\n",
      " 2   value   131 non-null    object\n",
      "dtypes: object(3)\n",
      "memory usage: 3.2+ KB\n"
     ]
    }
   ],
   "source": [
    "#Running info() on each dataframe to look for nulls and examine datatypes\n",
    "for df, name in zip(dfs, df_names):\n",
    "    print(f\"\\n--- {name} ---\\n\")\n",
    "    df.info()\n"
   ]
  },
  {
   "cell_type": "code",
   "execution_count": 56,
   "metadata": {},
   "outputs": [
    {
     "name": "stdout",
     "output_type": "stream",
     "text": [
      "<class 'pandas.core.frame.DataFrame'>\n",
      "RangeIndex: 131 entries, 0 to 130\n",
      "Data columns (total 3 columns):\n",
      " #   Column  Non-Null Count  Dtype\n",
      "---  ------  --------------  -----\n",
      " 0   year    131 non-null    int64\n",
      " 1   month   131 non-null    int32\n",
      " 2   value   131 non-null    int64\n",
      "dtypes: int32(1), int64(2)\n",
      "memory usage: 2.7 KB\n"
     ]
    },
    {
     "data": {
      "text/html": [
       "<div>\n",
       "<style scoped>\n",
       "    .dataframe tbody tr th:only-of-type {\n",
       "        vertical-align: middle;\n",
       "    }\n",
       "\n",
       "    .dataframe tbody tr th {\n",
       "        vertical-align: top;\n",
       "    }\n",
       "\n",
       "    .dataframe thead th {\n",
       "        text-align: right;\n",
       "    }\n",
       "</style>\n",
       "<table border=\"1\" class=\"dataframe\">\n",
       "  <thead>\n",
       "    <tr style=\"text-align: right;\">\n",
       "      <th></th>\n",
       "      <th>year</th>\n",
       "      <th>month</th>\n",
       "      <th>value</th>\n",
       "    </tr>\n",
       "  </thead>\n",
       "  <tbody>\n",
       "    <tr>\n",
       "      <th>count</th>\n",
       "      <td>131.000000</td>\n",
       "      <td>131.000000</td>\n",
       "      <td>131.000000</td>\n",
       "    </tr>\n",
       "    <tr>\n",
       "      <th>mean</th>\n",
       "      <td>2018.961832</td>\n",
       "      <td>6.458015</td>\n",
       "      <td>383.885496</td>\n",
       "    </tr>\n",
       "    <tr>\n",
       "      <th>std</th>\n",
       "      <td>3.155958</td>\n",
       "      <td>3.444638</td>\n",
       "      <td>145.117652</td>\n",
       "    </tr>\n",
       "    <tr>\n",
       "      <th>min</th>\n",
       "      <td>2014.000000</td>\n",
       "      <td>1.000000</td>\n",
       "      <td>191.000000</td>\n",
       "    </tr>\n",
       "    <tr>\n",
       "      <th>25%</th>\n",
       "      <td>2016.000000</td>\n",
       "      <td>3.500000</td>\n",
       "      <td>268.000000</td>\n",
       "    </tr>\n",
       "    <tr>\n",
       "      <th>50%</th>\n",
       "      <td>2019.000000</td>\n",
       "      <td>6.000000</td>\n",
       "      <td>351.000000</td>\n",
       "    </tr>\n",
       "    <tr>\n",
       "      <th>75%</th>\n",
       "      <td>2022.000000</td>\n",
       "      <td>9.000000</td>\n",
       "      <td>483.500000</td>\n",
       "    </tr>\n",
       "    <tr>\n",
       "      <th>max</th>\n",
       "      <td>2024.000000</td>\n",
       "      <td>12.000000</td>\n",
       "      <td>1087.000000</td>\n",
       "    </tr>\n",
       "  </tbody>\n",
       "</table>\n",
       "</div>"
      ],
      "text/plain": [
       "              year       month        value\n",
       "count   131.000000  131.000000   131.000000\n",
       "mean   2018.961832    6.458015   383.885496\n",
       "std       3.155958    3.444638   145.117652\n",
       "min    2014.000000    1.000000   191.000000\n",
       "25%    2016.000000    3.500000   268.000000\n",
       "50%    2019.000000    6.000000   351.000000\n",
       "75%    2022.000000    9.000000   483.500000\n",
       "max    2024.000000   12.000000  1087.000000"
      ]
     },
     "execution_count": 56,
     "metadata": {},
     "output_type": "execute_result"
    }
   ],
   "source": [
    "#The vet_employment_stats_df has all its values stored as string. I will need to convert the values to ints and trim the \"M\" designator from the renamed column month\n",
    "\n",
    "vet_employment_stats_df['year'] = pd.to_numeric(vet_employment_stats_df['year'], errors='coerce')\n",
    "vet_employment_stats_df['value'] = pd.to_numeric(vet_employment_stats_df['value'], errors='coerce')\n",
    "vet_employment_stats_df['period'] = vet_employment_stats_df['period'].str.replace('M', '').astype(int)\n",
    "vet_employment_stats_df.rename(columns={'period': 'month'}, inplace=True)\n",
    "\n",
    "\n",
    "vet_employment_stats_df.info()\n",
    "vet_employment_stats_df.describe()"
   ]
  },
  {
   "cell_type": "code",
   "execution_count": 57,
   "metadata": {},
   "outputs": [
    {
     "name": "stdout",
     "output_type": "stream",
     "text": [
      "<class 'pandas.core.frame.DataFrame'>\n",
      "RangeIndex: 131 entries, 0 to 130\n",
      "Data columns (total 3 columns):\n",
      " #   Column  Non-Null Count  Dtype  \n",
      "---  ------  --------------  -----  \n",
      " 0   year    131 non-null    int64  \n",
      " 1   month   131 non-null    int32  \n",
      " 2   value   131 non-null    float64\n",
      "dtypes: float64(1), int32(1), int64(1)\n",
      "memory usage: 2.7 KB\n"
     ]
    },
    {
     "data": {
      "text/html": [
       "<div>\n",
       "<style scoped>\n",
       "    .dataframe tbody tr th:only-of-type {\n",
       "        vertical-align: middle;\n",
       "    }\n",
       "\n",
       "    .dataframe tbody tr th {\n",
       "        vertical-align: top;\n",
       "    }\n",
       "\n",
       "    .dataframe thead th {\n",
       "        text-align: right;\n",
       "    }\n",
       "</style>\n",
       "<table border=\"1\" class=\"dataframe\">\n",
       "  <thead>\n",
       "    <tr style=\"text-align: right;\">\n",
       "      <th></th>\n",
       "      <th>year</th>\n",
       "      <th>month</th>\n",
       "      <th>value</th>\n",
       "    </tr>\n",
       "  </thead>\n",
       "  <tbody>\n",
       "    <tr>\n",
       "      <th>count</th>\n",
       "      <td>131.000000</td>\n",
       "      <td>131.000000</td>\n",
       "      <td>131.000000</td>\n",
       "    </tr>\n",
       "    <tr>\n",
       "      <th>mean</th>\n",
       "      <td>2018.961832</td>\n",
       "      <td>6.458015</td>\n",
       "      <td>3.999237</td>\n",
       "    </tr>\n",
       "    <tr>\n",
       "      <th>std</th>\n",
       "      <td>3.155958</td>\n",
       "      <td>3.444638</td>\n",
       "      <td>1.426318</td>\n",
       "    </tr>\n",
       "    <tr>\n",
       "      <th>min</th>\n",
       "      <td>2014.000000</td>\n",
       "      <td>1.000000</td>\n",
       "      <td>2.200000</td>\n",
       "    </tr>\n",
       "    <tr>\n",
       "      <th>25%</th>\n",
       "      <td>2016.000000</td>\n",
       "      <td>3.500000</td>\n",
       "      <td>3.000000</td>\n",
       "    </tr>\n",
       "    <tr>\n",
       "      <th>50%</th>\n",
       "      <td>2019.000000</td>\n",
       "      <td>6.000000</td>\n",
       "      <td>3.700000</td>\n",
       "    </tr>\n",
       "    <tr>\n",
       "      <th>75%</th>\n",
       "      <td>2022.000000</td>\n",
       "      <td>9.000000</td>\n",
       "      <td>4.650000</td>\n",
       "    </tr>\n",
       "    <tr>\n",
       "      <th>max</th>\n",
       "      <td>2024.000000</td>\n",
       "      <td>12.000000</td>\n",
       "      <td>12.200000</td>\n",
       "    </tr>\n",
       "  </tbody>\n",
       "</table>\n",
       "</div>"
      ],
      "text/plain": [
       "              year       month       value\n",
       "count   131.000000  131.000000  131.000000\n",
       "mean   2018.961832    6.458015    3.999237\n",
       "std       3.155958    3.444638    1.426318\n",
       "min    2014.000000    1.000000    2.200000\n",
       "25%    2016.000000    3.500000    3.000000\n",
       "50%    2019.000000    6.000000    3.700000\n",
       "75%    2022.000000    9.000000    4.650000\n",
       "max    2024.000000   12.000000   12.200000"
      ]
     },
     "execution_count": 57,
     "metadata": {},
     "output_type": "execute_result"
    }
   ],
   "source": [
    "#The vet_unemployment_rates_df has all its values stored as string. I will need to convert the values to ints and trim the \"M\" designator from the renamed column month\n",
    "\n",
    "vet_unemployment_rates_df['year'] = pd.to_numeric(vet_unemployment_rates_df['year'], errors='coerce')\n",
    "vet_unemployment_rates_df['value'] = pd.to_numeric(vet_unemployment_rates_df['value'], errors='coerce')\n",
    "vet_unemployment_rates_df['period'] = vet_unemployment_rates_df['period'].str.replace('M', '').astype(int)\n",
    "vet_unemployment_rates_df.rename(columns={'period': 'month'}, inplace=True)\n",
    "\n",
    "\n",
    "vet_unemployment_rates_df.info()\n",
    "vet_unemployment_rates_df.describe()"
   ]
  },
  {
   "cell_type": "code",
   "execution_count": 58,
   "metadata": {},
   "outputs": [
    {
     "data": {
      "text/html": [
       "<div>\n",
       "<style scoped>\n",
       "    .dataframe tbody tr th:only-of-type {\n",
       "        vertical-align: middle;\n",
       "    }\n",
       "\n",
       "    .dataframe tbody tr th {\n",
       "        vertical-align: top;\n",
       "    }\n",
       "\n",
       "    .dataframe thead th {\n",
       "        text-align: right;\n",
       "    }\n",
       "</style>\n",
       "<table border=\"1\" class=\"dataframe\">\n",
       "  <thead>\n",
       "    <tr style=\"text-align: right;\">\n",
       "      <th></th>\n",
       "      <th>UNRATE</th>\n",
       "      <th>Month</th>\n",
       "      <th>Year</th>\n",
       "    </tr>\n",
       "  </thead>\n",
       "  <tbody>\n",
       "    <tr>\n",
       "      <th>0</th>\n",
       "      <td>6.6</td>\n",
       "      <td>1</td>\n",
       "      <td>2014</td>\n",
       "    </tr>\n",
       "    <tr>\n",
       "      <th>1</th>\n",
       "      <td>6.7</td>\n",
       "      <td>2</td>\n",
       "      <td>2014</td>\n",
       "    </tr>\n",
       "    <tr>\n",
       "      <th>2</th>\n",
       "      <td>6.7</td>\n",
       "      <td>3</td>\n",
       "      <td>2014</td>\n",
       "    </tr>\n",
       "    <tr>\n",
       "      <th>3</th>\n",
       "      <td>6.2</td>\n",
       "      <td>4</td>\n",
       "      <td>2014</td>\n",
       "    </tr>\n",
       "    <tr>\n",
       "      <th>4</th>\n",
       "      <td>6.3</td>\n",
       "      <td>5</td>\n",
       "      <td>2014</td>\n",
       "    </tr>\n",
       "    <tr>\n",
       "      <th>...</th>\n",
       "      <td>...</td>\n",
       "      <td>...</td>\n",
       "      <td>...</td>\n",
       "    </tr>\n",
       "    <tr>\n",
       "      <th>116</th>\n",
       "      <td>3.8</td>\n",
       "      <td>9</td>\n",
       "      <td>2023</td>\n",
       "    </tr>\n",
       "    <tr>\n",
       "      <th>117</th>\n",
       "      <td>3.8</td>\n",
       "      <td>10</td>\n",
       "      <td>2023</td>\n",
       "    </tr>\n",
       "    <tr>\n",
       "      <th>118</th>\n",
       "      <td>3.7</td>\n",
       "      <td>11</td>\n",
       "      <td>2023</td>\n",
       "    </tr>\n",
       "    <tr>\n",
       "      <th>119</th>\n",
       "      <td>3.7</td>\n",
       "      <td>12</td>\n",
       "      <td>2023</td>\n",
       "    </tr>\n",
       "    <tr>\n",
       "      <th>120</th>\n",
       "      <td>3.7</td>\n",
       "      <td>1</td>\n",
       "      <td>2024</td>\n",
       "    </tr>\n",
       "  </tbody>\n",
       "</table>\n",
       "<p>121 rows × 3 columns</p>\n",
       "</div>"
      ],
      "text/plain": [
       "     UNRATE  Month  Year\n",
       "0       6.6      1  2014\n",
       "1       6.7      2  2014\n",
       "2       6.7      3  2014\n",
       "3       6.2      4  2014\n",
       "4       6.3      5  2014\n",
       "..      ...    ...   ...\n",
       "116     3.8      9  2023\n",
       "117     3.8     10  2023\n",
       "118     3.7     11  2023\n",
       "119     3.7     12  2023\n",
       "120     3.7      1  2024\n",
       "\n",
       "[121 rows x 3 columns]"
      ]
     },
     "execution_count": 58,
     "metadata": {},
     "output_type": "execute_result"
    }
   ],
   "source": [
    "unemployment_rate_df['Month'] = unemployment_rate_df['DATE'].str.split('/').str[0].astype(int)\n",
    "unemployment_rate_df['Year'] = unemployment_rate_df['DATE'].str.split('/').str[-1].astype(int)\n",
    "\n",
    "unemployment_rate_df.drop(columns=['DATE'], inplace=True)\n",
    "\n",
    "\n",
    "unemployment_rate_df"
   ]
  },
  {
   "cell_type": "code",
   "execution_count": 59,
   "metadata": {},
   "outputs": [
    {
     "data": {
      "text/plain": [
       "{'vet_employment_stats_df': 0,\n",
       " 'unemployment_rate_df': 0,\n",
       " 'vet_program_spending_df': 0,\n",
       " 'vet_unemployment_rates_df': 0}"
      ]
     },
     "execution_count": 59,
     "metadata": {},
     "output_type": "execute_result"
    }
   ],
   "source": [
    "# Checking for duplicates in each df\n",
    "duplicate_counts = {name: df.duplicated().sum() for df, name in zip(dfs, df_names)}\n",
    "\n",
    "duplicate_counts\n"
   ]
  },
  {
   "cell_type": "code",
   "execution_count": 60,
   "metadata": {},
   "outputs": [
    {
     "data": {
      "text/plain": [
       "{'vet_employment_stats_df': {'year': 0, 'value': 2},\n",
       " 'unemployment_rate_df': {'UNRATE': 5},\n",
       " 'vet_program_spending_df': {'fiscal_year': 0, 'total_obligations': 1},\n",
       " 'vet_unemployment_rates_df': {'year': 0, 'value': 4}}"
      ]
     },
     "execution_count": 60,
     "metadata": {},
     "output_type": "execute_result"
    }
   ],
   "source": [
    "# Checking for Outliers using the IQR method\n",
    "outliers_iqr = {}\n",
    "\n",
    "\n",
    "for df, name in zip(dfs, df_names):\n",
    "    outlier_info = {}\n",
    "\n",
    "    for col in df.select_dtypes(include=['float64', 'int64']).columns:\n",
    "        \n",
    "        Q1 = df[col].quantile(0.25)\n",
    "        Q3 = df[col].quantile(0.75)\n",
    "        IQR = Q3 - Q1\n",
    "        \n",
    "        lower_bound = Q1 - 1.5 * IQR\n",
    "        upper_bound = Q3 + 1.5 * IQR\n",
    "        \n",
    "        outliers_count = ((df[col] < lower_bound) | (df[col] > upper_bound)).sum()\n",
    "        outlier_info[col] = outliers_count\n",
    "    outliers_iqr[name] = outlier_info\n",
    "\n",
    "outliers_iqr\n"
   ]
  },
  {
   "cell_type": "code",
   "execution_count": 61,
   "metadata": {},
   "outputs": [
    {
     "name": "stdout",
     "output_type": "stream",
     "text": [
      "Outliers detected:\n",
      "    UNRATE  Month  Year\n",
      "75    14.8      4  2020\n",
      "76    13.2      5  2020\n",
      "77    11.0      6  2020\n",
      "78    10.2      7  2020\n",
      "79     8.4      8  2020\n"
     ]
    }
   ],
   "source": [
    "# Identifying the outliers in the unemployment rate df\n",
    "Q1 = unemployment_rate_df['UNRATE'].quantile(0.25)\n",
    "Q3 = unemployment_rate_df['UNRATE'].quantile(0.75)\n",
    "IQR = Q3 - Q1\n",
    "\n",
    "# Define lower and upper bounds for outliers\n",
    "lower_bound = Q1 - 1.5 * IQR\n",
    "upper_bound = Q3 + 1.5 * IQR\n",
    "\n",
    "# Identify rows with outliers in 'UNRATE_PCH'\n",
    "unemp_outliers = unemployment_rate_df[(unemployment_rate_df['UNRATE'] < lower_bound) | (unemployment_rate_df['UNRATE'] > upper_bound)]\n",
    "\n",
    "print(\"Outliers detected:\")\n",
    "print(unemp_outliers)\n",
    "\n"
   ]
  },
  {
   "cell_type": "markdown",
   "metadata": {},
   "source": [
    "These outliers are from COVID years. As mentioned above they willl not be treated as outliers in the analysis"
   ]
  },
  {
   "cell_type": "code",
   "execution_count": 62,
   "metadata": {},
   "outputs": [
    {
     "name": "stdout",
     "output_type": "stream",
     "text": [
      "Outliers detected:\n",
      "    year  month  value\n",
      "54  2020      5    841\n",
      "55  2020      4   1087\n"
     ]
    }
   ],
   "source": [
    "# Identifying the outliers in the vet_employment_stats_df\n",
    "Q1 = vet_employment_stats_df['value'].quantile(0.25)\n",
    "Q3 = vet_employment_stats_df['value'].quantile(0.75)\n",
    "IQR = Q3 - Q1\n",
    "\n",
    "# Define lower and upper bounds for outliers\n",
    "lower_bound = Q1 - 1.5 * IQR\n",
    "upper_bound = Q3 + 1.5 * IQR\n",
    "\n",
    "# Identify rows with outliers in 'UNRATE_PCH'\n",
    "vet_outliers = vet_employment_stats_df[(vet_employment_stats_df['value'] < lower_bound) | (vet_employment_stats_df['value'] > upper_bound)]\n",
    "\n",
    "print(\"Outliers detected:\")\n",
    "print(vet_outliers)\n",
    "\n"
   ]
  },
  {
   "cell_type": "markdown",
   "metadata": {},
   "source": [
    "These outliers are from COVID years. As mentioned above they willl not be treated as outliers in the analysis"
   ]
  },
  {
   "cell_type": "code",
   "execution_count": 63,
   "metadata": {},
   "outputs": [
    {
     "name": "stdout",
     "output_type": "stream",
     "text": [
      "Outliers detected:\n",
      "    year  month  value\n",
      "52  2020      7    7.8\n",
      "53  2020      6    8.6\n",
      "54  2020      5    9.4\n",
      "55  2020      4   12.2\n"
     ]
    }
   ],
   "source": [
    "# Identifying the outliers in the vet_employment_stats_df\n",
    "Q1 = vet_unemployment_rates_df['value'].quantile(0.25)\n",
    "Q3 = vet_unemployment_rates_df['value'].quantile(0.75)\n",
    "IQR = Q3 - Q1\n",
    "\n",
    "# Define lower and upper bounds for outliers\n",
    "lower_bound = Q1 - 1.5 * IQR\n",
    "upper_bound = Q3 + 1.5 * IQR\n",
    "\n",
    "# Identify rows with outliers in 'UNRATE_PCH'\n",
    "vet_unemp_outliers = vet_unemployment_rates_df[(vet_unemployment_rates_df['value'] < lower_bound) | (vet_unemployment_rates_df['value'] > upper_bound)]\n",
    "\n",
    "print(\"Outliers detected:\")\n",
    "print(vet_unemp_outliers)\n",
    "\n"
   ]
  },
  {
   "cell_type": "markdown",
   "metadata": {},
   "source": [
    "These outliers are from COVID years. As mentioned above they willl not be treated as outliers in the analysis"
   ]
  },
  {
   "cell_type": "code",
   "execution_count": 64,
   "metadata": {},
   "outputs": [
    {
     "name": "stdout",
     "output_type": "stream",
     "text": [
      "Outliers detected:\n",
      "    fiscal_year  total_obligations\n",
      "11         2025                0.0\n"
     ]
    }
   ],
   "source": [
    "# Identifying the outliers in the vet_program_spending_df\n",
    "Q1 = vet_program_spending_df['total_obligations'].quantile(0.25)\n",
    "Q3 = vet_program_spending_df['total_obligations'].quantile(0.75)\n",
    "IQR = Q3 - Q1\n",
    "\n",
    "# Define lower and upper bounds for outliers\n",
    "lower_bound = Q1 - 1.5 * IQR\n",
    "upper_bound = Q3 + 1.5 * IQR\n",
    "\n",
    "# Identify rows with outliers in 'UNRATE_PCH'\n",
    "spending_outliers = vet_program_spending_df[(vet_program_spending_df['total_obligations'] < lower_bound) | (vet_program_spending_df['total_obligations'] > upper_bound)]\n",
    "\n",
    "print(\"Outliers detected:\")\n",
    "print(spending_outliers)\n",
    "\n",
    "# This year is an outlier in the data and will be removed from further analysis\n",
    "\n",
    "vet_program_spending_df = vet_program_spending_df[(vet_program_spending_df['total_obligations'] >= lower_bound) & (vet_program_spending_df['total_obligations'] <= upper_bound)]\n",
    "\n"
   ]
  },
  {
   "cell_type": "code",
   "execution_count": 65,
   "metadata": {},
   "outputs": [
    {
     "name": "stdout",
     "output_type": "stream",
     "text": [
      "\n",
      "--- vet_employment_stats_df ---\n",
      "\n",
      "              year       month        value\n",
      "count   131.000000  131.000000   131.000000\n",
      "mean   2018.961832    6.458015   383.885496\n",
      "std       3.155958    3.444638   145.117652\n",
      "min    2014.000000    1.000000   191.000000\n",
      "25%    2016.000000    3.500000   268.000000\n",
      "50%    2019.000000    6.000000   351.000000\n",
      "75%    2022.000000    9.000000   483.500000\n",
      "max    2024.000000   12.000000  1087.000000\n",
      "\n",
      "--- unemployment_rate_df ---\n",
      "\n",
      "           UNRATE       Month         Year\n",
      "count  121.000000  121.000000   121.000000\n",
      "mean     4.883471    6.454545  2018.545455\n",
      "std      1.769432    3.488075     2.915476\n",
      "min      3.400000    1.000000  2014.000000\n",
      "25%      3.700000    3.000000  2016.000000\n",
      "50%      4.400000    6.000000  2019.000000\n",
      "75%      5.400000    9.000000  2021.000000\n",
      "max     14.800000   12.000000  2024.000000\n",
      "\n",
      "--- vet_program_spending_df ---\n",
      "\n",
      "       fiscal_year  total_obligations\n",
      "count    12.000000       1.200000e+01\n",
      "mean   2019.500000       1.976460e+08\n",
      "std       3.605551       6.293856e+07\n",
      "min    2014.000000       0.000000e+00\n",
      "25%    2016.750000       2.054107e+08\n",
      "50%    2019.500000       2.163466e+08\n",
      "75%    2022.250000       2.198932e+08\n",
      "max    2025.000000       2.324897e+08\n",
      "\n",
      "--- vet_unemployment_rates_df ---\n",
      "\n",
      "              year       month       value\n",
      "count   131.000000  131.000000  131.000000\n",
      "mean   2018.961832    6.458015    3.999237\n",
      "std       3.155958    3.444638    1.426318\n",
      "min    2014.000000    1.000000    2.200000\n",
      "25%    2016.000000    3.500000    3.000000\n",
      "50%    2019.000000    6.000000    3.700000\n",
      "75%    2022.000000    9.000000    4.650000\n",
      "max    2024.000000   12.000000   12.200000\n"
     ]
    }
   ],
   "source": [
    "descriptions = {name: df.describe(include='all') for df, name in zip(dfs, df_names)}\n",
    "for name, description in descriptions.items():\n",
    "    print(f\"\\n--- {name} ---\\n\")\n",
    "    print(description)\n"
   ]
  },
  {
   "cell_type": "markdown",
   "metadata": {},
   "source": [
    "The data has been properly examined and cleaned. The data is in the right datatypes, with no null or missing values, no duplicates are present and any outliers not relevant to the analysis have been removed. "
   ]
  },
  {
   "cell_type": "markdown",
   "metadata": {},
   "source": [
    "## Visualizations\n",
    "4 Visualizations from 2 different libraries"
   ]
  },
  {
   "cell_type": "code",
   "execution_count": 66,
   "metadata": {},
   "outputs": [
    {
     "data": {
      "image/png": "[encoded data removed]",
      "text/plain": [
       "<Figure size 1000x600 with 1 Axes>"
      ]
     },
     "metadata": {},
     "output_type": "display_data"
    }
   ],
   "source": [
    "merged_df = vet_employment_stats_df.merge(vet_program_spending_df, left_on='year', right_on='fiscal_year')\n",
    "\n",
    "plt.figure(figsize=(10, 6))\n",
    "sns.regplot(data=merged_df, x='total_obligations', y='value', scatter_kws={'s': 50, 'alpha': 0.7}, line_kws={'color': 'red'})\n",
    "plt.title(\"Impact of Government Spending on Veteran Unemployment Count\")\n",
    "plt.xlabel(\"Government Spending on Veteran Programs ($)\")\n",
    "plt.ylabel(\"Veteran Unemployment Count\")\n",
    "plt.show()\n"
   ]
  },
  {
   "cell_type": "code",
   "execution_count": 67,
   "metadata": {},
   "outputs": [
    {
     "data": {
      "image/png": "[encoded data removed]",
      "text/plain": [
       "<Figure size 1000x600 with 1 Axes>"
      ]
     },
     "metadata": {},
     "output_type": "display_data"
    }
   ],
   "source": [
    "plt.figure(figsize=(10, 6))\n",
    "\n",
    "sns.lineplot(data=vet_unemployment_rates_df, x='year', y='value', label='Veteran Unemployment Rate')\n",
    "\n",
    "sns.lineplot(data=unemployment_rate_df, x='Year', y='UNRATE', label='Total US Unemployment Rate')\n",
    "\n",
    "plt.axvspan(2020, 2022, color='gray', alpha=0.3, label='COVID Years')\n",
    "\n",
    "plt.title(\"Veteran vs Total US Unemployment Rate Over Time (2014-2023)\")\n",
    "plt.xlabel(\"Year\")\n",
    "plt.ylabel(\"Unemployment Rate (%)\")\n",
    "plt.xlim(2014, 2023)\n",
    "plt.legend()\n",
    "plt.show()\n"
   ]
  },
  {
   "cell_type": "code",
   "execution_count": 68,
   "metadata": {},
   "outputs": [
    {
     "data": {
      "text/plain": [
       "(1.5569999009236206, 63.888888888888886)"
      ]
     },
     "execution_count": 68,
     "metadata": {},
     "output_type": "execute_result"
    }
   ],
   "source": [
    "#Isolating the data for covid years and averaging unemployment rates for vets and total population during that time compared to 2019\n",
    "pre_covid_year = 2019\n",
    "covid_years = [2020, 2021, 2022]\n",
    "\n",
    "pre_covid_spending = vet_program_spending_df[vet_program_spending_df['fiscal_year'] == pre_covid_year]['total_obligations'].values[0]\n",
    "\n",
    "covid_spending = vet_program_spending_df[vet_program_spending_df['fiscal_year'].isin(covid_years)]['total_obligations'].mean()\n",
    "\n",
    "spending_increase_pct = ((covid_spending - pre_covid_spending) / pre_covid_spending) * 100\n",
    "\n",
    "pre_covid_vet_unemployment = vet_unemployment_rates_df[vet_unemployment_rates_df['year'] == pre_covid_year]['value'].values[0]\n",
    "\n",
    "covid_vet_unemployment = vet_unemployment_rates_df[vet_unemployment_rates_df['year'].isin(covid_years)]['value'].mean()\n",
    "\n",
    "vet_unemployment_increase_pct = ((covid_vet_unemployment - pre_covid_vet_unemployment) / pre_covid_vet_unemployment) * 100\n",
    "\n",
    "spending_increase_pct, vet_unemployment_increase_pct\n"
   ]
  },
  {
   "cell_type": "code",
   "execution_count": null,
   "metadata": {},
   "outputs": [
    {
     "data": {
      "image/png": "[encoded data removed]",
      "text/plain": [
       "<Figure size 1500x1000 with 1 Axes>"
      ]
     },
     "metadata": {},
     "output_type": "display_data"
    }
   ],
   "source": [
    "data = {\n",
    "    \"Metric\": [\"Government Spending Increase\", \"Veteran Unemployment Increase\"],\n",
    "    \"Percentage Increase\": [spending_increase_pct, vet_unemployment_increase_pct]\n",
    "}\n",
    "\n",
    "increase_df = pd.DataFrame(data)\n",
    "\n",
    "plt.figure(figsize=(15, 10))\n",
    "sns.barplot(data=increase_df, x=\"Metric\", y=\"Percentage Increase\", palette=\"viridis\")\n",
    "plt.title(\"Percentage Increase During COVID-19 (2020-2022)\")\n",
    "plt.ylabel(\"Percentage Increase (%)\")\n",
    "plt.show()\n"
   ]
  },
  {
   "cell_type": "code",
   "execution_count": 70,
   "metadata": {},
   "outputs": [
    {
     "data": {
      "application/vnd.plotly.v1+json": {
       "config": {
        "plotlyServerURL": "https://plot.ly"
       },
       "data": [
        {
         "branchvalues": "total",
         "customdata": [
          [
           6.158333333333332
          ],
          [
           5.2749999999999995
          ],
          [
           4.874999999999999
          ],
          [
           4.358333333333333
          ],
          [
           3.8916666666666666
          ],
          [
           3.6749999999999994
          ],
          [
           8.091666666666667
          ],
          [
           5.350000000000001
          ],
          [
           3.6333333333333333
          ],
          [
           3.625000000000001
          ],
          [
           3.7
          ]
         ],
         "domain": {
          "x": [
           0,
           1
          ],
          "y": [
           0,
           1
          ]
         },
         "hovertemplate": "labels=%{label}<br>total_obligations=%{value}<br>parent=%{parent}<br>id=%{id}<br>UNRATE=%{color}<extra></extra>",
         "ids": [
          "2014",
          "2015",
          "2016",
          "2017",
          "2018",
          "2019",
          "2020",
          "2021",
          "2022",
          "2023",
          "2024"
         ],
         "labels": [
          "2014",
          "2015",
          "2016",
          "2017",
          "2018",
          "2019",
          "2020",
          "2021",
          "2022",
          "2023",
          "2024"
         ],
         "marker": {
          "coloraxis": "coloraxis",
          "colors": [
           6.158333333333332,
           5.2749999999999995,
           4.874999999999999,
           4.358333333333333,
           3.8916666666666666,
           3.6749999999999994,
           8.091666666666667,
           5.350000000000001,
           3.6333333333333333,
           3.625000000000001,
           3.7
          ]
         },
         "name": "",
         "parents": [
          "",
          "",
          "",
          "",
          "",
          "",
          "",
          "",
          "",
          "",
          ""
         ],
         "type": "treemap",
         "values": [
          2466012520.32,
          2504840763,
          2461674715.8,
          2413521591.2400002,
          2616529014.96,
          2595511278.84,
          2604050816.88,
          2596806912.7200003,
          2706912431.04,
          2789876740.92,
          225440604.8
         ]
        }
       ],
       "layout": {
        "coloraxis": {
         "colorbar": {
          "title": {
           "text": "Unemployment Rate (%)"
          }
         },
         "colorscale": [
          [
           0,
           "#440154"
          ],
          [
           0.1111111111111111,
           "#482878"
          ],
          [
           0.2222222222222222,
           "#3e4989"
          ],
          [
           0.3333333333333333,
           "#31688e"
          ],
          [
           0.4444444444444444,
           "#26828e"
          ],
          [
           0.5555555555555556,
           "#1f9e89"
          ],
          [
           0.6666666666666666,
           "#35b779"
          ],
          [
           0.7777777777777778,
           "#6ece58"
          ],
          [
           0.8888888888888888,
           "#b5de2b"
          ],
          [
           1,
           "#fde725"
          ]
         ]
        },
        "legend": {
         "tracegroupgap": 0
        },
        "margin": {
         "b": 25,
         "l": 25,
         "r": 25,
         "t": 50
        },
        "template": {
         "data": {
          "bar": [
           {
            "error_x": {
             "color": "#2a3f5f"
            },
            "error_y": {
             "color": "#2a3f5f"
            },
            "marker": {
             "line": {
              "color": "#E5ECF6",
              "width": 0.5
             },
             "pattern": {
              "fillmode": "overlay",
              "size": 10,
              "solidity": 0.2
             }
            },
            "type": "bar"
           }
          ],
          "barpolar": [
           {
            "marker": {
             "line": {
              "color": "#E5ECF6",
              "width": 0.5
             },
             "pattern": {
              "fillmode": "overlay",
              "size": 10,
              "solidity": 0.2
             }
            },
            "type": "barpolar"
           }
          ],
          "carpet": [
           {
            "aaxis": {
             "endlinecolor": "#2a3f5f",
             "gridcolor": "white",
             "linecolor": "white",
             "minorgridcolor": "white",
             "startlinecolor": "#2a3f5f"
            },
            "baxis": {
             "endlinecolor": "#2a3f5f",
             "gridcolor": "white",
             "linecolor": "white",
             "minorgridcolor": "white",
             "startlinecolor": "#2a3f5f"
            },
            "type": "carpet"
           }
          ],
          "choropleth": [
           {
            "colorbar": {
             "outlinewidth": 0,
             "ticks": ""
            },
            "type": "choropleth"
           }
          ],
          "contour": [
           {
            "colorbar": {
             "outlinewidth": 0,
             "ticks": ""
            },
            "colorscale": [
             [
              0,
              "#0d0887"
             ],
             [
              0.1111111111111111,
              "#46039f"
             ],
             [
              0.2222222222222222,
              "#7201a8"
             ],
             [
              0.3333333333333333,
              "#9c179e"
             ],
             [
              0.4444444444444444,
              "#bd3786"
             ],
             [
              0.5555555555555556,
              "#d8576b"
             ],
             [
              0.6666666666666666,
              "#ed7953"
             ],
             [
              0.7777777777777778,
              "#fb9f3a"
             ],
             [
              0.8888888888888888,
              "#fdca26"
             ],
             [
              1,
              "#f0f921"
             ]
            ],
            "type": "contour"
           }
          ],
          "contourcarpet": [
           {
            "colorbar": {
             "outlinewidth": 0,
             "ticks": ""
            },
            "type": "contourcarpet"
           }
          ],
          "heatmap": [
           {
            "colorbar": {
             "outlinewidth": 0,
             "ticks": ""
            },
            "colorscale": [
             [
              0,
              "#0d0887"
             ],
             [
              0.1111111111111111,
              "#46039f"
             ],
             [
              0.2222222222222222,
              "#7201a8"
             ],
             [
              0.3333333333333333,
              "#9c179e"
             ],
             [
              0.4444444444444444,
              "#bd3786"
             ],
             [
              0.5555555555555556,
              "#d8576b"
             ],
             [
              0.6666666666666666,
              "#ed7953"
             ],
             [
              0.7777777777777778,
              "#fb9f3a"
             ],
             [
              0.8888888888888888,
              "#fdca26"
             ],
             [
              1,
              "#f0f921"
             ]
            ],
            "type": "heatmap"
           }
          ],
          "heatmapgl": [
           {
            "colorbar": {
             "outlinewidth": 0,
             "ticks": ""
            },
            "colorscale": [
             [
              0,
              "#0d0887"
             ],
             [
              0.1111111111111111,
              "#46039f"
             ],
             [
              0.2222222222222222,
              "#7201a8"
             ],
             [
              0.3333333333333333,
              "#9c179e"
             ],
             [
              0.4444444444444444,
              "#bd3786"
             ],
             [
              0.5555555555555556,
              "#d8576b"
             ],
             [
              0.6666666666666666,
              "#ed7953"
             ],
             [
              0.7777777777777778,
              "#fb9f3a"
             ],
             [
              0.8888888888888888,
              "#fdca26"
             ],
             [
              1,
              "#f0f921"
             ]
            ],
            "type": "heatmapgl"
           }
          ],
          "histogram": [
           {
            "marker": {
             "pattern": {
              "fillmode": "overlay",
              "size": 10,
              "solidity": 0.2
             }
            },
            "type": "histogram"
           }
          ],
          "histogram2d": [
           {
            "colorbar": {
             "outlinewidth": 0,
             "ticks": ""
            },
            "colorscale": [
             [
              0,
              "#0d0887"
             ],
             [
              0.1111111111111111,
              "#46039f"
             ],
             [
              0.2222222222222222,
              "#7201a8"
             ],
             [
              0.3333333333333333,
              "#9c179e"
             ],
             [
              0.4444444444444444,
              "#bd3786"
             ],
             [
              0.5555555555555556,
              "#d8576b"
             ],
             [
              0.6666666666666666,
              "#ed7953"
             ],
             [
              0.7777777777777778,
              "#fb9f3a"
             ],
             [
              0.8888888888888888,
              "#fdca26"
             ],
             [
              1,
              "#f0f921"
             ]
            ],
            "type": "histogram2d"
           }
          ],
          "histogram2dcontour": [
           {
            "colorbar": {
             "outlinewidth": 0,
             "ticks": ""
            },
            "colorscale": [
             [
              0,
              "#0d0887"
             ],
             [
              0.1111111111111111,
              "#46039f"
             ],
             [
              0.2222222222222222,
              "#7201a8"
             ],
             [
              0.3333333333333333,
              "#9c179e"
             ],
             [
              0.4444444444444444,
              "#bd3786"
             ],
             [
              0.5555555555555556,
              "#d8576b"
             ],
             [
              0.6666666666666666,
              "#ed7953"
             ],
             [
              0.7777777777777778,
              "#fb9f3a"
             ],
             [
              0.8888888888888888,
              "#fdca26"
             ],
             [
              1,
              "#f0f921"
             ]
            ],
            "type": "histogram2dcontour"
           }
          ],
          "mesh3d": [
           {
            "colorbar": {
             "outlinewidth": 0,
             "ticks": ""
            },
            "type": "mesh3d"
           }
          ],
          "parcoords": [
           {
            "line": {
             "colorbar": {
              "outlinewidth": 0,
              "ticks": ""
             }
            },
            "type": "parcoords"
           }
          ],
          "pie": [
           {
            "automargin": true,
            "type": "pie"
           }
          ],
          "scatter": [
           {
            "fillpattern": {
             "fillmode": "overlay",
             "size": 10,
             "solidity": 0.2
            },
            "type": "scatter"
           }
          ],
          "scatter3d": [
           {
            "line": {
             "colorbar": {
              "outlinewidth": 0,
              "ticks": ""
             }
            },
            "marker": {
             "colorbar": {
              "outlinewidth": 0,
              "ticks": ""
             }
            },
            "type": "scatter3d"
           }
          ],
          "scattercarpet": [
           {
            "marker": {
             "colorbar": {
              "outlinewidth": 0,
              "ticks": ""
             }
            },
            "type": "scattercarpet"
           }
          ],
          "scattergeo": [
           {
            "marker": {
             "colorbar": {
              "outlinewidth": 0,
              "ticks": ""
             }
            },
            "type": "scattergeo"
           }
          ],
          "scattergl": [
           {
            "marker": {
             "colorbar": {
              "outlinewidth": 0,
              "ticks": ""
             }
            },
            "type": "scattergl"
           }
          ],
          "scattermapbox": [
           {
            "marker": {
             "colorbar": {
              "outlinewidth": 0,
              "ticks": ""
             }
            },
            "type": "scattermapbox"
           }
          ],
          "scatterpolar": [
           {
            "marker": {
             "colorbar": {
              "outlinewidth": 0,
              "ticks": ""
             }
            },
            "type": "scatterpolar"
           }
          ],
          "scatterpolargl": [
           {
            "marker": {
             "colorbar": {
              "outlinewidth": 0,
              "ticks": ""
             }
            },
            "type": "scatterpolargl"
           }
          ],
          "scatterternary": [
           {
            "marker": {
             "colorbar": {
              "outlinewidth": 0,
              "ticks": ""
             }
            },
            "type": "scatterternary"
           }
          ],
          "surface": [
           {
            "colorbar": {
             "outlinewidth": 0,
             "ticks": ""
            },
            "colorscale": [
             [
              0,
              "#0d0887"
             ],
             [
              0.1111111111111111,
              "#46039f"
             ],
             [
              0.2222222222222222,
              "#7201a8"
             ],
             [
              0.3333333333333333,
              "#9c179e"
             ],
             [
              0.4444444444444444,
              "#bd3786"
             ],
             [
              0.5555555555555556,
              "#d8576b"
             ],
             [
              0.6666666666666666,
              "#ed7953"
             ],
             [
              0.7777777777777778,
              "#fb9f3a"
             ],
             [
              0.8888888888888888,
              "#fdca26"
             ],
             [
              1,
              "#f0f921"
             ]
            ],
            "type": "surface"
           }
          ],
          "table": [
           {
            "cells": {
             "fill": {
              "color": "#EBF0F8"
             },
             "line": {
              "color": "white"
             }
            },
            "header": {
             "fill": {
              "color": "#C8D4E3"
             },
             "line": {
              "color": "white"
             }
            },
            "type": "table"
           }
          ]
         },
         "layout": {
          "annotationdefaults": {
           "arrowcolor": "#2a3f5f",
           "arrowhead": 0,
           "arrowwidth": 1
          },
          "autotypenumbers": "strict",
          "coloraxis": {
           "colorbar": {
            "outlinewidth": 0,
            "ticks": ""
           }
          },
          "colorscale": {
           "diverging": [
            [
             0,
             "#8e0152"
            ],
            [
             0.1,
             "#c51b7d"
            ],
            [
             0.2,
             "#de77ae"
            ],
            [
             0.3,
             "#f1b6da"
            ],
            [
             0.4,
             "#fde0ef"
            ],
            [
             0.5,
             "#f7f7f7"
            ],
            [
             0.6,
             "#e6f5d0"
            ],
            [
             0.7,
             "#b8e186"
            ],
            [
             0.8,
             "#7fbc41"
            ],
            [
             0.9,
             "#4d9221"
            ],
            [
             1,
             "#276419"
            ]
           ],
           "sequential": [
            [
             0,
             "#0d0887"
            ],
            [
             0.1111111111111111,
             "#46039f"
            ],
            [
             0.2222222222222222,
             "#7201a8"
            ],
            [
             0.3333333333333333,
             "#9c179e"
            ],
            [
             0.4444444444444444,
             "#bd3786"
            ],
            [
             0.5555555555555556,
             "#d8576b"
            ],
            [
             0.6666666666666666,
             "#ed7953"
            ],
            [
             0.7777777777777778,
             "#fb9f3a"
            ],
            [
             0.8888888888888888,
             "#fdca26"
            ],
            [
             1,
             "#f0f921"
            ]
           ],
           "sequentialminus": [
            [
             0,
             "#0d0887"
            ],
            [
             0.1111111111111111,
             "#46039f"
            ],
            [
             0.2222222222222222,
             "#7201a8"
            ],
            [
             0.3333333333333333,
             "#9c179e"
            ],
            [
             0.4444444444444444,
             "#bd3786"
            ],
            [
             0.5555555555555556,
             "#d8576b"
            ],
            [
             0.6666666666666666,
             "#ed7953"
            ],
            [
             0.7777777777777778,
             "#fb9f3a"
            ],
            [
             0.8888888888888888,
             "#fdca26"
            ],
            [
             1,
             "#f0f921"
            ]
           ]
          },
          "colorway": [
           "#636efa",
           "#EF553B",
           "#00cc96",
           "#ab63fa",
           "#FFA15A",
           "#19d3f3",
           "#FF6692",
           "#B6E880",
           "#FF97FF",
           "#FECB52"
          ],
          "font": {
           "color": "#2a3f5f"
          },
          "geo": {
           "bgcolor": "white",
           "lakecolor": "white",
           "landcolor": "#E5ECF6",
           "showlakes": true,
           "showland": true,
           "subunitcolor": "white"
          },
          "hoverlabel": {
           "align": "left"
          },
          "hovermode": "closest",
          "mapbox": {
           "style": "light"
          },
          "paper_bgcolor": "white",
          "plot_bgcolor": "#E5ECF6",
          "polar": {
           "angularaxis": {
            "gridcolor": "white",
            "linecolor": "white",
            "ticks": ""
           },
           "bgcolor": "#E5ECF6",
           "radialaxis": {
            "gridcolor": "white",
            "linecolor": "white",
            "ticks": ""
           }
          },
          "scene": {
           "xaxis": {
            "backgroundcolor": "#E5ECF6",
            "gridcolor": "white",
            "gridwidth": 2,
            "linecolor": "white",
            "showbackground": true,
            "ticks": "",
            "zerolinecolor": "white"
           },
           "yaxis": {
            "backgroundcolor": "#E5ECF6",
            "gridcolor": "white",
            "gridwidth": 2,
            "linecolor": "white",
            "showbackground": true,
            "ticks": "",
            "zerolinecolor": "white"
           },
           "zaxis": {
            "backgroundcolor": "#E5ECF6",
            "gridcolor": "white",
            "gridwidth": 2,
            "linecolor": "white",
            "showbackground": true,
            "ticks": "",
            "zerolinecolor": "white"
           }
          },
          "shapedefaults": {
           "line": {
            "color": "#2a3f5f"
           }
          },
          "ternary": {
           "aaxis": {
            "gridcolor": "white",
            "linecolor": "white",
            "ticks": ""
           },
           "baxis": {
            "gridcolor": "white",
            "linecolor": "white",
            "ticks": ""
           },
           "bgcolor": "#E5ECF6",
           "caxis": {
            "gridcolor": "white",
            "linecolor": "white",
            "ticks": ""
           }
          },
          "title": {
           "x": 0.05
          },
          "xaxis": {
           "automargin": true,
           "gridcolor": "white",
           "linecolor": "white",
           "ticks": "",
           "title": {
            "standoff": 15
           },
           "zerolinecolor": "white",
           "zerolinewidth": 2
          },
          "yaxis": {
           "automargin": true,
           "gridcolor": "white",
           "linecolor": "white",
           "ticks": "",
           "title": {
            "standoff": 15
           },
           "zerolinecolor": "white",
           "zerolinewidth": 2
          }
         }
        },
        "title": {
         "text": "Government Spending on Veteran Programs by Year and Unemployment Rate"
        }
       }
      }
     },
     "metadata": {},
     "output_type": "display_data"
    }
   ],
   "source": [
    "merged_df = unemployment_rate_df.merge(vet_program_spending_df, left_on='Year', right_on='fiscal_year')\n",
    "\n",
    "fig = px.treemap(\n",
    "    merged_df,\n",
    "    path=[\"Year\"],\n",
    "    values=\"total_obligations\",\n",
    "    color=\"UNRATE\",\n",
    "    color_continuous_scale=\"Viridis\",\n",
    "    title=\"Government Spending on Veteran Programs by Year and Unemployment Rate\"\n",
    ")\n",
    "\n",
    "fig.update_layout(margin=dict(t=50, l=25, r=25, b=25))\n",
    "fig.update_coloraxes(colorbar_title=\"Unemployment Rate (%)\")\n",
    "\n",
    "fig.show()\n"
   ]
  },
  {
   "cell_type": "markdown",
   "metadata": {},
   "source": [
    "## Visualization Analysis\n",
    "The scatter plot with a trendline explores how government spending impacts veteran unemployment. The trendline’s negative slope suggests that increased spending is associated with lower veteran unemployment, hinting that investments in veteran programs may help reduce unemployment levels. However, the spread of data points around the trendline shows some variability, indicating that while spending has a positive effect, other factors also influence veteran employment outcomes.\n",
    "\n",
    "In the bar plot, we see the percentage increase in government spending on veteran programs and veteran unemployment rates during COVID-19 (2020-2022) compared to 2019. The chart reveals a rise in both, with veteran unemployment rates increasing much more sharply than spending. This points to the heightened need for support, as economic disruptions significantly impacted veterans. It also suggests that while the government did help, it the impact of COVID on veteran employment was still a net negative compared to the rise in unemployment.\n",
    "\n",
    "The line plot shows acomparison of veteran unemployment rates to the total US unemployment rate from 2014 to 2023. During COVID-19, both rates spiked, but veteran unemployment saw a sharper rise and a slower recovery. This trend implies that veterans may face disproportionate challenges in the job market, even as the economy rebounded. The gap between veteran and total unemployment rates highlights these unique employment difficulties, pointing to a need for more targeted support to address the factors affecting veterans’ employment.\n",
    "\n",
    "Finally, the treemap visualization gives a year-by-year look at how government spending on veteran programs is impacted with the overall US unemployment rate. Here the tile size reflects spending levels, while color intensity shows the unemployment rate. This allows for comparision and to see if the total unemployment rate impacts sending. During the COVID years (2020-2022), larger, darker-colored tiles suggest an uptick in both spending and unemployment, indicating that high unemployment may drive increased veteran support. This year-on-year shows funding strategies change based on economic condition trends.\n",
    "\n",
    "\n",
    "\n",
    "\n",
    "\n",
    "\n"
   ]
  },
  {
   "cell_type": "markdown",
   "metadata": {},
   "source": [
    "## Checkpoint 3\n",
    "\n",
    "1. Machine Learning Plan\n",
    "\n",
    "My Machine Learning Plan has a regression model where government spending acts as the independent variable and veteran unemployment rates as the dependent variable. U.S. unemployment rates are included as a comparative feature to account for economic shifts. A technical consideration is handling the COVID-19 period (2020–2022), during which economic disruptions were very impactful. Instead of treating COVID-related data as outliers, which was my initial plan,  they are retained to assess the true economic impact on veterans. Variables and percentage changes are used to capture the effects of spending. The goal is to quantify spending’s impact and  factors influencing veteran unemployment.\n",
    "Categorization will play a big role the final product. Data will be divided into periods: pre-COVID, COVID, and post-COVID. These are used to analyze trends across each period. These categorizations will improve the analysis by ID’ng patterns that explain relationships across contexts.\n",
    "________________________________________\n",
    "2. Machine Learning Implementation Process\n",
    "\n",
    "•\tAsk\n",
    "    How does government spending on veteran employment programs impact veteran unemployment rates? The prediction target is the annual veteran unemployment rate and determining which factors correlate most strongly to its changes.\n",
    "•\tPrepare\n",
    "    This will include calculating percentage changes in veteran and national unemployment rates, and adding indicators for significant economic events, such as the COVID years.\n",
    "•\tProcess\n",
    "    1.\tEDA: The distribution of veteran unemployment rates and government spending will be examined. Visualizations include a scatter plot (spending vs. veteran unemployment), a line chart (veteran vs. national unemployment trends), and a  treemap (spending vs. unemployment trends by year). Missing data, outliers, and correlations between features will also be identified.\n",
    "    2.\tSplitting the Dataset: The dataset will be divided into training (80%) and test (20%) subsets to evaluate the model’s performance.\n",
    "    3.\tData Cleaning Using Scikit-Learn Pipelines: The data cleaning portion has already been done, but I will clean up the code and add a pipeline when I write the ML code. Handling of categorical data is unnecessary since the current datasets do not include categorical features.\n",
    "•\tAnalyze\n",
    "    •\tLinear Regression: Establishes a relationship between government spending and veteran unemployment rates.\n",
    "    This model will predict the annual veteran unemployment rate based on government spending and national unemployment rate. Model performance will be compared using metrics like MSE to evaluate prediction accuracy.\n",
    "•\tEvaluate\n",
    "    I will include comparing predicted veteran unemployment rates with actual rates for examining the trends and spending changes on veteran outcomes.\n",
    "•\tShare\n",
    "    Visualizations will play a key role in communicating findings:\n",
    "    •\tA scatter plot with a trendline will show the relationship between spending and veteran unemployment rates.\n",
    "    •\tA bar plot will illustrate changes in veteran unemployment rates and spending during the COVID years (2020–2022).\n",
    "    •\tA line plot will compare veteran unemployment rates to national unemployment rates from 2014–2023.\n",
    "    •\tA treemap will provide a yearly visualization of spending levels and unemployment rates, reflecting economic condition trends.\n",
    "    Insights from these visualizations will be compiled into a report including key factors for decision-makers on the effectiveness of veteran spending programs in reducing unemployment and potential expanding these programs to improve veteran employment opportunities.\n",
    "________________________________________\n",
    "3. Prior Feedback and Updates\n",
    "Based on checkpoint feedback I received the analysis of the COVID-19 years will be expanded to address the economic impact of the pandemic on veteran unemployment and government spending.\n"
   ]
  },
  {
   "cell_type": "code",
   "execution_count": null,
   "metadata": {},
   "outputs": [],
   "source": [
    "#define features/ target and split into train/test\n",
    "\n",
    "x_value = merged_df['total_obligations']\n",
    "\n",
    "y_target = merged_df['UNRATE']\n",
    "\n",
    "x_train, x_test, y_train, y_test = train_test_split(x_value, y_target, test_size=0.2)\n",
    "\n",
    "#reshape the x_values training sets into 2D arrays\n",
    "\n",
    "x_train = x_train.values.reshape(-1, 1)\n",
    "x_test = x_test.values.reshape(-1, 1)\n",
    "\n",
    "\n"
   ]
  },
  {
   "cell_type": "code",
   "execution_count": 72,
   "metadata": {},
   "outputs": [
    {
     "data": {
      "text/html": [
       "<style>#sk-container-id-2 {color: black;background-color: white;}#sk-container-id-2 pre{padding: 0;}#sk-container-id-2 div.sk-toggleable {background-color: white;}#sk-container-id-2 label.sk-toggleable__label {cursor: pointer;display: block;width: 100%;margin-bottom: 0;padding: 0.3em;box-sizing: border-box;text-align: center;}#sk-container-id-2 label.sk-toggleable__label-arrow:before {content: \"▸\";float: left;margin-right: 0.25em;color: #696969;}#sk-container-id-2 label.sk-toggleable__label-arrow:hover:before {color: black;}#sk-container-id-2 div.sk-estimator:hover label.sk-toggleable__label-arrow:before {color: black;}#sk-container-id-2 div.sk-toggleable__content {max-height: 0;max-width: 0;overflow: hidden;text-align: left;background-color: #f0f8ff;}#sk-container-id-2 div.sk-toggleable__content pre {margin: 0.2em;color: black;border-radius: 0.25em;background-color: #f0f8ff;}#sk-container-id-2 input.sk-toggleable__control:checked~div.sk-toggleable__content {max-height: 200px;max-width: 100%;overflow: auto;}#sk-container-id-2 input.sk-toggleable__control:checked~label.sk-toggleable__label-arrow:before {content: \"▾\";}#sk-container-id-2 div.sk-estimator input.sk-toggleable__control:checked~label.sk-toggleable__label {background-color: #d4ebff;}#sk-container-id-2 div.sk-label input.sk-toggleable__control:checked~label.sk-toggleable__label {background-color: #d4ebff;}#sk-container-id-2 input.sk-hidden--visually {border: 0;clip: rect(1px 1px 1px 1px);clip: rect(1px, 1px, 1px, 1px);height: 1px;margin: -1px;overflow: hidden;padding: 0;position: absolute;width: 1px;}#sk-container-id-2 div.sk-estimator {font-family: monospace;background-color: #f0f8ff;border: 1px dotted black;border-radius: 0.25em;box-sizing: border-box;margin-bottom: 0.5em;}#sk-container-id-2 div.sk-estimator:hover {background-color: #d4ebff;}#sk-container-id-2 div.sk-parallel-item::after {content: \"\";width: 100%;border-bottom: 1px solid gray;flex-grow: 1;}#sk-container-id-2 div.sk-label:hover label.sk-toggleable__label {background-color: #d4ebff;}#sk-container-id-2 div.sk-serial::before {content: \"\";position: absolute;border-left: 1px solid gray;box-sizing: border-box;top: 0;bottom: 0;left: 50%;z-index: 0;}#sk-container-id-2 div.sk-serial {display: flex;flex-direction: column;align-items: center;background-color: white;padding-right: 0.2em;padding-left: 0.2em;position: relative;}#sk-container-id-2 div.sk-item {position: relative;z-index: 1;}#sk-container-id-2 div.sk-parallel {display: flex;align-items: stretch;justify-content: center;background-color: white;position: relative;}#sk-container-id-2 div.sk-item::before, #sk-container-id-2 div.sk-parallel-item::before {content: \"\";position: absolute;border-left: 1px solid gray;box-sizing: border-box;top: 0;bottom: 0;left: 50%;z-index: -1;}#sk-container-id-2 div.sk-parallel-item {display: flex;flex-direction: column;z-index: 1;position: relative;background-color: white;}#sk-container-id-2 div.sk-parallel-item:first-child::after {align-self: flex-end;width: 50%;}#sk-container-id-2 div.sk-parallel-item:last-child::after {align-self: flex-start;width: 50%;}#sk-container-id-2 div.sk-parallel-item:only-child::after {width: 0;}#sk-container-id-2 div.sk-dashed-wrapped {border: 1px dashed gray;margin: 0 0.4em 0.5em 0.4em;box-sizing: border-box;padding-bottom: 0.4em;background-color: white;}#sk-container-id-2 div.sk-label label {font-family: monospace;font-weight: bold;display: inline-block;line-height: 1.2em;}#sk-container-id-2 div.sk-label-container {text-align: center;}#sk-container-id-2 div.sk-container {/* jupyter's `normalize.less` sets `[hidden] { display: none; }` but bootstrap.min.css set `[hidden] { display: none !important; }` so we also need the `!important` here to be able to override the default hidden behavior on the sphinx rendered scikit-learn.org. See: https://github.com/scikit-learn/scikit-learn/issues/21755 */display: inline-block !important;position: relative;}#sk-container-id-2 div.sk-text-repr-fallback {display: none;}</style><div id=\"sk-container-id-2\" class=\"sk-top-container\"><div class=\"sk-text-repr-fallback\"><pre>LinearRegression()</pre><b>In a Jupyter environment, please rerun this cell to show the HTML representation or trust the notebook. <br />On GitHub, the HTML representation is unable to render, please try loading this page with nbviewer.org.</b></div><div class=\"sk-container\" hidden><div class=\"sk-item\"><div class=\"sk-estimator sk-toggleable\"><input class=\"sk-toggleable__control sk-hidden--visually\" id=\"sk-estimator-id-2\" type=\"checkbox\" checked><label for=\"sk-estimator-id-2\" class=\"sk-toggleable__label sk-toggleable__label-arrow\">LinearRegression</label><div class=\"sk-toggleable__content\"><pre>LinearRegression()</pre></div></div></div></div></div>"
      ],
      "text/plain": [
       "LinearRegression()"
      ]
     },
     "execution_count": 72,
     "metadata": {},
     "output_type": "execute_result"
    }
   ],
   "source": [
    "# Fit the Linear Regression Model\n",
    "\n",
    "lin_reg = LinearRegression()\n",
    "lin_reg.fit(x_train, y_train)"
   ]
  },
  {
   "cell_type": "code",
   "execution_count": 73,
   "metadata": {},
   "outputs": [],
   "source": [
    "# Predict target values using lin_reg model and x_values test set\n",
    "target_pred = lin_reg.predict(x_test)\n"
   ]
  },
  {
   "cell_type": "code",
   "execution_count": 74,
   "metadata": {},
   "outputs": [
    {
     "name": "stdout",
     "output_type": "stream",
     "text": [
      "Mean Squared Error: 4.53637985241566\n",
      "R-squared: 0.018799606943691538\n"
     ]
    }
   ],
   "source": [
    "# Evaluate the MSE and R2 scores for the model predictions\n",
    "mse = mean_squared_error(y_test, target_pred)\n",
    "r2 = r2_score(y_test, target_pred)\n",
    "\n",
    "print(f\"Mean Squared Error: {mse}\")\n",
    "print(f\"R-squared: {r2}\")\n"
   ]
  },
  {
   "cell_type": "code",
   "execution_count": 75,
   "metadata": {},
   "outputs": [
    {
     "data": {
      "image/png": "[encoded data removed]",
      "text/plain": [
       "<Figure size 1000x600 with 1 Axes>"
      ]
     },
     "metadata": {},
     "output_type": "display_data"
    }
   ],
   "source": [
    "# plot the acutal vs predict values\n",
    "\n",
    "plt.figure(figsize=(10, 6))\n",
    "sns.scatterplot(x=y_test, y=target_pred, color=\"blue\")\n",
    "plt.plot([y_test.min(), y_test.max()], [y_test.min(), y_test.max()], color='red')\n",
    "plt.title('Actual vs. Predicted Veteran Unemployment Rates')\n",
    "plt.xlabel('Actual Unemployment Rates')\n",
    "plt.ylabel('Predicted Unemployment Rates')\n",
    "plt.show()"
   ]
  },
  {
   "cell_type": "code",
   "execution_count": 76,
   "metadata": {},
   "outputs": [
    {
     "name": "stdout",
     "output_type": "stream",
     "text": [
      "Filtered Data Mean Squared Error: 0.5274528326793732\n",
      "Filtered Data R-squared: 0.36268137534769274\n"
     ]
    }
   ],
   "source": [
    "# The model performed poorly and the scores were unsuitable for analysis. I will remove the COVID years from the df and mrun the model again to see if it improves without the noise of the COVID years\n",
    "filtered_df = merged_df[~merged_df['Year'].isin([2020, 2021, 2022])]\n",
    "\n",
    "x_value_filtered = filtered_df['total_obligations']\n",
    "\n",
    "y_target_filtered = filtered_df['UNRATE']\n",
    "\n",
    "x_train, x_test, y_train, y_test = train_test_split(x_value_filtered.values.reshape(-1, 1), y_target_filtered, test_size=0.2)\n",
    "\n",
    "lin_reg = LinearRegression()\n",
    "lin_reg.fit(x_train, y_train)\n",
    "\n",
    "target_pred = lin_reg.predict(x_test)\n",
    "\n",
    "mse_filtered = mean_squared_error(y_test, target_pred)\n",
    "r2_filtered = r2_score(y_test, target_pred)\n",
    "\n",
    "print(f\"Filtered Data Mean Squared Error: {mse_filtered}\")\n",
    "print(f\"Filtered Data R-squared: {r2_filtered}\")\n",
    "\n"
   ]
  },
  {
   "cell_type": "markdown",
   "metadata": {},
   "source": [
    "## ML Analaysis\n",
    "\n",
    "During my ML analysis, I found that, within data used, government spending on veterans employment programs is not a signficant predictor for veterans unemployment. When the full datasets were used the model performed poorly, with a high MSE and a low R2 value, indicating minimal explanatory power. Hoping to improve this scores, I removed the COVID year as they were initially flagged as outliers during the EDA process. My hope in keeping this values in the ML process was to examine the relationship during abnormal circumstances, but those years added too much noise to the data and negatively impacted predictive modeling. AFter removing the COVID years (2020–2022), the model performance improved slightly. These revised scores, while better, were not sufficient enough to prove that government spending alone provides as significant impact to veteran unemployment rates."
   ]
  },
  {
   "cell_type": "markdown",
   "metadata": {},
   "source": [
    "## Final Concluision\n",
    "I came to two conclusions during this analysis. The first is that veteran unemployment usually follows national unemployment trends, even during times of extreme circumstances like COVID. While veterans rates are higher than national rates, the rate of change year on year between the two is similar and suggest that the simliar factors are affection both. The second conclusion confirms by initial hypothesis and the goal of this analysis, that government spending on veterans programs does impact veterans unemployment rates.  However, this impact is not as significate as I thought it would be and by itself it is not an accurate predictor for unemployment rates. Seeing these results leads me to believe that additional factors need to be considered. I believe that by not including additional factors, I oversimplified the linear regression model and lead to its poor performance. Things like demographic information, education, and new veterans to the workforce should also be included. Overall, while the analysis shows some connection between spending and unemployment, it also highlights the complexity of veteran unemployment trends and the need for more comprehensive modeling.\n"
   ]
  },
  {
   "attachments": {},
   "cell_type": "markdown",
   "metadata": {},
   "source": [
    "## Resources and References\n",
    "*What resources and references have you used for this project?*\n",
    "📝 <!-- Answer Below -->"
   ]
  },
  {
   "cell_type": "code",
   "execution_count": 78,
   "metadata": {},
   "outputs": [
    {
     "name": "stderr",
     "output_type": "stream",
     "text": [
      "[NbConvertApp] Converting notebook source.ipynb to python\n",
      "[NbConvertApp] Writing 26986 bytes to source.py\n"
     ]
    }
   ],
   "source": [
    "# ⚠️ Make sure you run this cell at the end of your notebook before every submission!\n",
    "!jupyter nbconvert --to python source.ipynb"
   ]
  }
 ],
 "metadata": {
  "kernelspec": {
   "display_name": "Python 3",
   "language": "python",
   "name": "python3"
  },
  "language_info": {
   "codemirror_mode": {
    "name": "ipython",
    "version": 3
   },
   "file_extension": ".py",
   "mimetype": "text/x-python",
   "name": "python",
   "nbconvert_exporter": "python",
   "pygments_lexer": "ipython3",
   "version": "3.11.9"
  },
  "orig_nbformat": 4
 },
 "nbformat": 4,
 "nbformat_minor": 2
}
